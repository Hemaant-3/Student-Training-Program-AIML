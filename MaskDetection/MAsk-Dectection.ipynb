{
 "cells": [
  {
   "cell_type": "markdown",
   "metadata": {},
   "source": [
    "<a href='https://www.hexnbit.com/'> <img src='https://www.hexnbit.com/wp-content/uploads/2019/09/hexnbit_final_66px.png'/> </a>"
   ]
  },
  {
   "cell_type": "markdown",
   "metadata": {},
   "source": [
    "# Task 1:\n",
    "1. Using OpenCV functions, open the webcam / USB camera device and play a live stream\n",
    "2. Video stream must stop when \"x\" key is pressed<br>\n",
    "**Hint-** Refer Section 41 from the content"
   ]
  },
  {
   "cell_type": "code",
   "execution_count": 3,
   "metadata": {},
   "outputs": [],
   "source": [
    "import cv2\n",
    "import numpy as np"
   ]
  },
  {
   "cell_type": "code",
   "execution_count": null,
   "metadata": {},
   "outputs": [],
   "source": [
    "import cv2\n",
    "cap = cv2.VideoCapture(0)\n",
    "while(1):\n",
    "    if(cap.isOpened):\n",
    "        for i in range(2):\n",
    "            obj, frame = cap.read()\n",
    "\n",
    "            cv2.imshow('LIVE', frame)\n",
    "    if(cv2.waitKey(5) & 0xFF == ord('x')):\n",
    "        break\n",
    "cap.release()\n",
    "cv2.destroyAllWindows()\n"
   ]
  },
  {
   "cell_type": "markdown",
   "metadata": {},
   "source": [
    "# Task 2:\n",
    "1. Add another window which displays grayscale feed<br>\n",
    "**Hint-** Refer Section 47 from the content"
   ]
  },
  {
   "cell_type": "code",
   "execution_count": 2,
   "metadata": {},
   "outputs": [
    {
     "ename": "NameError",
     "evalue": "name 'cv2' is not defined",
     "output_type": "error",
     "traceback": [
      "\u001b[1;31m---------------------------------------------------------------------------\u001b[0m",
      "\u001b[1;31mNameError\u001b[0m                                 Traceback (most recent call last)",
      "\u001b[1;32md:\\AIML\\a5\\A5_Assignment.ipynb Cell 6'\u001b[0m in \u001b[0;36m<cell line: 1>\u001b[1;34m()\u001b[0m\n\u001b[1;32m----> <a href='vscode-notebook-cell:/d%3A/AIML/a5/A5_Assignment.ipynb#ch0000005?line=0'>1</a>\u001b[0m cap \u001b[39m=\u001b[39m cv2\u001b[39m.\u001b[39mVideoCapture(\u001b[39m0\u001b[39m)\n\u001b[0;32m      <a href='vscode-notebook-cell:/d%3A/AIML/a5/A5_Assignment.ipynb#ch0000005?line=1'>2</a>\u001b[0m \u001b[39mwhile\u001b[39;00m(\u001b[39m1\u001b[39m):\n\u001b[0;32m      <a href='vscode-notebook-cell:/d%3A/AIML/a5/A5_Assignment.ipynb#ch0000005?line=2'>3</a>\u001b[0m     \u001b[39mif\u001b[39;00m(cap\u001b[39m.\u001b[39misOpened):\n",
      "\u001b[1;31mNameError\u001b[0m: name 'cv2' is not defined"
     ]
    }
   ],
   "source": [
    "cap = cv2.VideoCapture(0)\n",
    "while(1):\n",
    "    if(cap.isOpened):\n",
    "        for i in range(2):\n",
    "            obj, frame = cap.read()\n",
    "            gray = cv2.cvtColor(frame,cv2.COLOR_BGR2GRAY)\n",
    "            frame1 = cv2.resize(frame,(600,450))\n",
    "            gray1 = cv2.resize(gray,(600,450))\n",
    "            cv2.imshow('Gray',gray1)\n",
    "            cv2.imshow('original',frame1)\n",
    "    if(cv2.waitKey(5) & 0xFF == ord('x')):\n",
    "        break\n",
    "cap.release()\n",
    "cv2.destroyAllWindows()"
   ]
  },
  {
   "cell_type": "markdown",
   "metadata": {},
   "source": [
    "# Task 3:\n",
    "1. In the live camera feed, using the Haar Cascade Files, detect following:-\n",
    "    - Face (Enclosed with Yellow Rectangle)\n",
    "    - Nose (Enclosed with Blue Rectangle)\n",
    "    - Eyes (Enclosed with Green Rectangle)\n",
    "    - Smile (Enclosed with Red Rectangle)<br>\n",
    "**Hint-** Refer Section 50"
   ]
  },
  {
   "cell_type": "code",
   "execution_count": 1,
   "metadata": {},
   "outputs": [],
   "source": [
    "import cv2\n",
    "import numpy as np\n",
    "# initilaizing classifiers\n",
    "eye = cv2.CascadeClassifier('haarcascade_eye.xml')\n",
    "nose = cv2.CascadeClassifier('haarcascade_nose.xml')\n",
    "smile = cv2.CascadeClassifier('haarcascade_smile.xml')\n",
    "face = cv2.CascadeClassifier('haarcascade_frontalface_default.xml')\n"
   ]
  },
  {
   "cell_type": "code",
   "execution_count": 2,
   "metadata": {},
   "outputs": [
    {
     "ename": "NameError",
     "evalue": "name 'face' is not defined",
     "output_type": "error",
     "traceback": [
      "\u001b[1;31m---------------------------------------------------------------------------\u001b[0m",
      "\u001b[1;31mNameError\u001b[0m                                 Traceback (most recent call last)",
      "\u001b[1;32md:\\AIML\\a5\\A5_Assignment.ipynb Cell 9'\u001b[0m in \u001b[0;36m<cell line: 2>\u001b[1;34m()\u001b[0m\n\u001b[0;32m      <a href='vscode-notebook-cell:/d%3A/AIML/a5/A5_Assignment.ipynb#ch0000008?line=5'>6</a>\u001b[0m gra \u001b[39m=\u001b[39m cv2\u001b[39m.\u001b[39mcvtColor(frame,cv2\u001b[39m.\u001b[39mCOLOR_BGR2GRAY)\n\u001b[0;32m      <a href='vscode-notebook-cell:/d%3A/AIML/a5/A5_Assignment.ipynb#ch0000008?line=6'>7</a>\u001b[0m \u001b[39m# gra = cv2.resize(frame,(600,450))\u001b[39;00m\n\u001b[1;32m----> <a href='vscode-notebook-cell:/d%3A/AIML/a5/A5_Assignment.ipynb#ch0000008?line=8'>9</a>\u001b[0m faces \u001b[39m=\u001b[39m face\u001b[39m.\u001b[39mdetectMultiScale(frame,scaleFactor\u001b[39m=\u001b[39m\u001b[39m1.3\u001b[39m,minNeighbors\u001b[39m=\u001b[39m\u001b[39m6\u001b[39m)\n\u001b[0;32m     <a href='vscode-notebook-cell:/d%3A/AIML/a5/A5_Assignment.ipynb#ch0000008?line=9'>10</a>\u001b[0m \u001b[39mfor\u001b[39;00m x, y, width, height \u001b[39min\u001b[39;00m faces:\n\u001b[0;32m     <a href='vscode-notebook-cell:/d%3A/AIML/a5/A5_Assignment.ipynb#ch0000008?line=10'>11</a>\u001b[0m     cv2\u001b[39m.\u001b[39mrectangle(frame, (x, y), (x \u001b[39m+\u001b[39m width, y \u001b[39m+\u001b[39m height), color\u001b[39m=\u001b[39m(\u001b[39m0\u001b[39m, \u001b[39m255\u001b[39m, \u001b[39m0\u001b[39m), thickness\u001b[39m=\u001b[39m\u001b[39m2\u001b[39m)\n",
      "\u001b[1;31mNameError\u001b[0m: name 'face' is not defined"
     ]
    }
   ],
   "source": [
    "cap = cv2.VideoCapture(0)\n",
    "while(1):\n",
    "    if(cap.isOpened):\n",
    "        for i in range(2):\n",
    "            obj, frame = cap.read()\n",
    "            gra = cv2.cvtColor(frame,cv2.COLOR_BGR2GRAY)\n",
    "            # gra = cv2.resize(frame,(600,450))\n",
    "\n",
    "            faces = face.detectMultiScale(frame,scaleFactor=1.3,minNeighbors=6)\n",
    "            for x, y, width, height in faces:\n",
    "                cv2.rectangle(frame, (x, y), (x + width, y + height), color=(0, 255, 0), thickness=2)\n",
    "                roi_g = gra[y:y+height,x:x+width]\n",
    "                frame1 = frame[y:y+height,x:x+width]\n",
    "                nos = nose.detectMultiScale(roi_g)\n",
    "                for nx,ny,nw,nh in nos:\n",
    "                    cv2.rectangle(frame1,(nx,ny),(nx+nw,ny+nh),(0,0,255),2)\n",
    "                    sm = smile.detectMultiScale(roi_g)\n",
    "                    for sx,sy,sw,sh in sm:\n",
    "                        cv2.rectangle(frame1,(sx,sy),(sx+sw,sy+sh),(255,255,0),2)\n",
    "                        ey = eye.detectMultiScale(roi_g)\n",
    "                        for ex,ey,ew,eh in ey:\n",
    "                            cv2.rectangle(frame1,(ex,ey),(ex+ew,ey+eh),(255,0,255),2)\n",
    "                    \n",
    "            cv2.imshow('original',frame)\n",
    "    if(cv2.waitKey(5) & 0xFF == ord('x')):\n",
    "        break\n",
    "cap.release()\n",
    "cv2.destroyAllWindows()"
   ]
  },
  {
   "cell_type": "markdown",
   "metadata": {},
   "source": [
    "# Task 4:\n",
    "1. Based on the Facial Features detected in live feed, try to form a logic which may be used to detect if the person is wearing mask or not<br>\n",
    "**Hint:** What are the facial features not visible when a person is wearing a mask?\n",
    "\n",
    "2. If mask is worn write \"Wearing Mask\" on top of face rectangle using Green Colour\n",
    "3. Else write \"No Mask\" on top of face rectangle using Red Colour<br>\n",
    "**Hint:** Look at the picture attached below / in the references of this download,Consider that only one face is detected in the live feed<br>"
   ]
  },
  {
   "cell_type": "markdown",
   "metadata": {},
   "source": [
    "The algorithm may not be 100% accurate and will depend on lighting conditions / camera placement etc. but try to calibrate the parameters of \"detectMultiScale\" function<br>\n",
    "Press Shift+Tab on the function to check all possible parameters"
   ]
  },
  {
   "cell_type": "markdown",
   "metadata": {},
   "source": [
    "<img src='mask_detection.jpg'/> </a>"
   ]
  },
  {
   "cell_type": "code",
   "execution_count": 2,
   "metadata": {},
   "outputs": [],
   "source": [
    "cap = cv2.VideoCapture(0)\n",
    "while(1):\n",
    "    if(cap.isOpened):\n",
    "        for i in range(2):\n",
    "            obj, frame = cap.read()\n",
    "            gra = cv2.cvtColor(frame,cv2.COLOR_BGR2GRAY)\n",
    "            faces = face.detectMultiScale(gra,scaleFactor=1.9,minNeighbors=5)\n",
    "            for x, y, width, height in faces:\n",
    "                cv2.rectangle(frame, (x, y), (x + width, y + height), color=(0, 255, 0), thickness=2)\n",
    "                roi_g = gra[y:y+height,x:x+width]\n",
    "                frame1 = frame[y:y+height,x:x+width]\n",
    "                nos = nose.detectMultiScale(roi_g)\n",
    "                if(len(nos)>0):\n",
    "                    for nx,ny,nw,nh in nos:\n",
    "                        cv2.rectangle(frame1,(nx,ny),(nx+nw,ny+nh),(0,0,255),2)\n",
    "                        if(len(nos)>0):\n",
    "                            cv2.putText(img = frame, \n",
    "                            text = \"NO MASK\",\n",
    "                            org = (int(x),int(y-10)), \n",
    "                            fontFace = cv2.FONT_HERSHEY_DUPLEX, \n",
    "                            fontScale = 1, \n",
    "                            color = (255,255,255),\n",
    "                            thickness = 2, \n",
    "                            lineType = cv2.LINE_AA)\n",
    "                else:\n",
    "                    cv2.putText(img = frame, \n",
    "                    text = \"WEAR MASK\",\n",
    "                    org = (int(x),int(y-10)), \n",
    "                    fontFace = cv2.FONT_HERSHEY_DUPLEX, \n",
    "                    fontScale = 1, \n",
    "                    color = (255,255,255),\n",
    "                    thickness = 2, \n",
    "                    lineType = cv2.LINE_AA)\n",
    "\n",
    "            cv2.imshow('original',frame)\n",
    "    if(cv2.waitKey(5) & 0xFF == ord('x')):\n",
    "        break\n",
    "cap.release()\n",
    "cv2.destroyAllWindows()"
   ]
  }
 ],
 "metadata": {
  "kernelspec": {
   "display_name": "Python 3",
   "language": "python",
   "name": "python3"
  },
  "language_info": {
   "codemirror_mode": {
    "name": "ipython",
    "version": 3
   },
   "file_extension": ".py",
   "mimetype": "text/x-python",
   "name": "python",
   "nbconvert_exporter": "python",
   "pygments_lexer": "ipython3",
   "version": "3.10.4"
  }
 },
 "nbformat": 4,
 "nbformat_minor": 4
}
