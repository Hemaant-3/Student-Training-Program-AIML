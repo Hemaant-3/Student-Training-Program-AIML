{
 "cells": [
  {
   "cell_type": "code",
   "execution_count": 1,
   "metadata": {},
   "outputs": [],
   "source": [
    "import cv2\n",
    "import numpy as np"
   ]
  },
  {
   "cell_type": "markdown",
   "metadata": {},
   "source": [
    "## Tracking Blue objects\n"
   ]
  },
  {
   "cell_type": "markdown",
   "metadata": {},
   "source": [
    "###### HSV for Blue"
   ]
  },
  {
   "cell_type": "code",
   "execution_count": 2,
   "metadata": {},
   "outputs": [
    {
     "name": "stdout",
     "output_type": "stream",
     "text": [
      "[[[120 255 255]]]\n"
     ]
    }
   ],
   "source": [
    "col = np.uint8([[[255,0,0]]]) # adding blue color 255-b,g,r\n",
    "col_hsv = cv2.cvtColor(col,cv2.COLOR_BGR2HSV)\n",
    "print(col_hsv)"
   ]
  },
  {
   "cell_type": "markdown",
   "metadata": {},
   "source": [
    "##### Define upper and lower range of blue\n"
   ]
  },
  {
   "cell_type": "code",
   "execution_count": 3,
   "metadata": {},
   "outputs": [],
   "source": [
    "#   डिफाइन range of blue color in hsv(got approximate value from above cell and tewaked them)\n",
    "col_upp = np.array([130,255,255])\n",
    "col_low = np.array([90,140,10])"
   ]
  },
  {
   "cell_type": "markdown",
   "metadata": {},
   "source": [
    "## Tracking "
   ]
  },
  {
   "cell_type": "markdown",
   "metadata": {},
   "source": [
    "### Define upper and lower range of red"
   ]
  },
  {
   "cell_type": "code",
   "execution_count": 3,
   "metadata": {},
   "outputs": [],
   "source": [
    "red_up = np.array([0,200,255])\n",
    "red_low = np.array([0,80,70])\n"
   ]
  },
  {
   "cell_type": "markdown",
   "metadata": {},
   "source": [
    "## tracking"
   ]
  },
  {
   "cell_type": "code",
   "execution_count": 4,
   "metadata": {},
   "outputs": [
    {
     "ename": "NameError",
     "evalue": "name 'frame' is not defined",
     "output_type": "error",
     "traceback": [
      "\u001b[1;31m---------------------------------------------------------------------------\u001b[0m",
      "\u001b[1;31mNameError\u001b[0m                                 Traceback (most recent call last)",
      "\u001b[1;32md:\\Code\\Personal-Backup\\AIML\\colorDetect.ipynb Cell 14'\u001b[0m in \u001b[0;36m<module>\u001b[1;34m\u001b[0m\n\u001b[0;32m      <a href='vscode-notebook-cell:/d%3A/Code/Personal-Backup/AIML/colorDetect.ipynb#ch0000013?line=4'>5</a>\u001b[0m ret,frame1\u001b[39m=\u001b[39mcap\u001b[39m.\u001b[39mread()   \n\u001b[0;32m      <a href='vscode-notebook-cell:/d%3A/Code/Personal-Backup/AIML/colorDetect.ipynb#ch0000013?line=5'>6</a>\u001b[0m \u001b[39m#convert bgr to hsv\u001b[39;00m\n\u001b[1;32m----> <a href='vscode-notebook-cell:/d%3A/Code/Personal-Backup/AIML/colorDetect.ipynb#ch0000013?line=6'>7</a>\u001b[0m hsv1 \u001b[39m=\u001b[39m  cv2\u001b[39m.\u001b[39mcvtColor(frame,cv2\u001b[39m.\u001b[39mCOLOR_BGR2HSV)\n\u001b[0;32m      <a href='vscode-notebook-cell:/d%3A/Code/Personal-Backup/AIML/colorDetect.ipynb#ch0000013?line=7'>8</a>\u001b[0m \u001b[39m#threshold the hsv image to get the only red color\u001b[39;00m\n\u001b[0;32m      <a href='vscode-notebook-cell:/d%3A/Code/Personal-Backup/AIML/colorDetect.ipynb#ch0000013?line=8'>9</a>\u001b[0m mask1 \u001b[39m=\u001b[39m cv2\u001b[39m.\u001b[39minRange(hsv1,red_low,red_up)\n",
      "\u001b[1;31mNameError\u001b[0m: name 'frame' is not defined"
     ]
    }
   ],
   "source": [
    "cap = cv2.VideoCapture(1)\n",
    "while(1):\n",
    "     if(cap.isOpened()):\n",
    "         for i in range(2):\n",
    "              ret,frame1=cap.read()   \n",
    "              #convert bgr to hsv\n",
    "              hsv1 =  cv2.cvtColor(frame1,cv2.COLOR_BGR2HSV)\n",
    "              #threshold the hsv image to get the only red color\n",
    "              mask1 = cv2.inRange(hsv1,red_low,red_up)\n",
    "              # Bitwise-AND mask and the original image\n",
    "              track1 = cv2.bitwise_and(frame1,frame1,mask=mask1)\n",
    "              # displaying frame\n",
    "              cv2.imshow('Frame',frame1)\n",
    "              cv2.imshow('mask',mask1)\n",
    "              cv2.imshow('Tracking',track1)\n",
    "\n",
    "     if(cv2.waitKey(5)&0xFF==ord('x')):\n",
    "        break\n",
    "cap.release()\n",
    "cv2.destroyAllWindows()"
   ]
  },
  {
   "cell_type": "code",
   "execution_count": null,
   "metadata": {},
   "outputs": [],
   "source": []
  }
 ],
 "metadata": {
  "interpreter": {
   "hash": "f24fb9bd9c96833ada7666618c30f0640dc157acbf48e7c08340c749ce69c83b"
  },
  "kernelspec": {
   "display_name": "Python 3.9.7 64-bit (system)",
   "language": "python",
   "name": "python3"
  },
  "language_info": {
   "codemirror_mode": {
    "name": "ipython",
    "version": 3
   },
   "file_extension": ".py",
   "mimetype": "text/x-python",
   "name": "python",
   "nbconvert_exporter": "python",
   "pygments_lexer": "ipython3",
   "version": "3.9.7"
  },
  "orig_nbformat": 4
 },
 "nbformat": 4,
 "nbformat_minor": 2
}
