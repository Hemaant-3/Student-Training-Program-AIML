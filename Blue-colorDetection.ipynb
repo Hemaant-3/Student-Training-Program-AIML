{
 "cells": [
  {
   "cell_type": "code",
   "execution_count": 26,
   "metadata": {},
   "outputs": [],
   "source": [
    "import cv2\n",
    "import numpy as np"
   ]
  },
  {
   "cell_type": "markdown",
   "metadata": {},
   "source": [
    "## Tracking Blue objects\n"
   ]
  },
  {
   "cell_type": "markdown",
   "metadata": {},
   "source": [
    "###### HSV for Blue"
   ]
  },
  {
   "cell_type": "code",
   "execution_count": 27,
   "metadata": {},
   "outputs": [
    {
     "name": "stdout",
     "output_type": "stream",
     "text": [
      "[[[120 255 255]]]\n"
     ]
    }
   ],
   "source": [
    "col = np.uint8([[[255,0,0]]]) # adding blue color 255-b,g,r\n",
    "col_hsv = cv2.cvtColor(col,cv2.COLOR_BGR2HSV)\n",
    "print(col_hsv)"
   ]
  },
  {
   "cell_type": "markdown",
   "metadata": {},
   "source": [
    "##### Define upper and lower range of blue\n"
   ]
  },
  {
   "cell_type": "code",
   "execution_count": 28,
   "metadata": {},
   "outputs": [],
   "source": [
    "#   डिफाइन range of blue color in hsv(got approximate value from above cell and tewaked them)\n",
    "col_upp = np.array([130,255,255])\n",
    "col_low = np.array([90,140,10])"
   ]
  },
  {
   "cell_type": "markdown",
   "metadata": {},
   "source": [
    "## Tracking "
   ]
  },
  {
   "cell_type": "markdown",
   "metadata": {},
   "source": [
    "### Define upper and lower range of red"
   ]
  },
  {
   "cell_type": "code",
   "execution_count": 29,
   "metadata": {},
   "outputs": [],
   "source": [
    "blue_up = np.array([128,255,255])\n",
    "Blue_low= np.array([90,50,70])\n"
   ]
  },
  {
   "cell_type": "markdown",
   "metadata": {},
   "source": [
    "## tracking"
   ]
  },
  {
   "cell_type": "code",
   "execution_count": 30,
   "metadata": {},
   "outputs": [],
   "source": [
    "cap = cv2.VideoCapture(0)\n",
    "while(1):\n",
    "     if(cap.isOpened()):\n",
    "         for i in range(2):\n",
    "              ret,frame1=cap.read()   \n",
    "              #convert bgr to hsv\n",
    "              hsv1 =  cv2.cvtColor(frame1,cv2.COLOR_BGR2HSV)\n",
    "              #threshold the hsv image to get the only red color\n",
    "              mask1 = cv2.inRange(hsv1,Blue_low,blue_up)\n",
    "              # Bitwise-AND mask and the original image\n",
    "              track1 = cv2.bitwise_and(frame1,frame1,mask=mask1)\n",
    "              # displaying frame\n",
    "              cv2.imshow('Frame',frame1)\n",
    "              cv2.imshow('mask',mask1)\n",
    "              cv2.imshow('Tracking',track1)\n",
    "\n",
    "     if(cv2.waitKey(5)&0xFF==ord('x')):\n",
    "        break\n",
    "cap.release()\n",
    "cv2.destroyAllWindows()"
   ]
  },
  {
   "cell_type": "code",
   "execution_count": null,
   "metadata": {},
   "outputs": [],
   "source": []
  }
 ],
 "metadata": {
  "interpreter": {
   "hash": "7f2633a0dd9fad194999ffc17b7b93627efd4bccf6144e14bc5fef7dfd0c6355"
  },
  "kernelspec": {
   "display_name": "Python 3.10.4 64-bit",
   "language": "python",
   "name": "python3"
  },
  "language_info": {
   "codemirror_mode": {
    "name": "ipython",
    "version": 3
   },
   "file_extension": ".py",
   "mimetype": "text/x-python",
   "name": "python",
   "nbconvert_exporter": "python",
   "pygments_lexer": "ipython3",
   "version": "3.10.4"
  },
  "orig_nbformat": 4
 },
 "nbformat": 4,
 "nbformat_minor": 2
}
